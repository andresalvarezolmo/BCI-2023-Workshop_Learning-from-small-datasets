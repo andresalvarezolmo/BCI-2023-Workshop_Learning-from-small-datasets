{
 "cells": [
  {
   "cell_type": "code",
   "execution_count": 2,
   "id": "b82952a0",
   "metadata": {},
   "outputs": [
    {
     "name": "stderr",
     "output_type": "stream",
     "text": [
      "/Users/andresalvarezolmo/Documents/hume/ACS/playground/BCI-2023-Workshop_Learning-from-small-datasets/venv/lib/python3.10/site-packages/tqdm/auto.py:21: TqdmWarning: IProgress not found. Please update jupyter and ipywidgets. See https://ipywidgets.readthedocs.io/en/stable/user_install.html\n",
      "  from .autonotebook import tqdm as notebook_tqdm\n"
     ]
    }
   ],
   "source": [
    "from collections import OrderedDict\n",
    "from torch import nn\n",
    "from skorch import NeuralNet\n",
    "from skorch.utils import to_numpy\n",
    "from sklearn.base import TransformerMixin\n",
    "from braindecode.models import EEGNetv4\n",
    "from huggingface_hub import hf_hub_download\n",
    "from sklearn.pipeline import Pipeline\n",
    "from sklearn.linear_model import LogisticRegression\n",
    "from sklearn.preprocessing import FunctionTransformer\n",
    "from moabb.paradigms import MotorImagery\n",
    "from moabb.datasets import Zhou2016\n",
    "from moabb.evaluations import WithinSessionEvaluation, CrossSessionEvaluation\n",
    "\n",
    "import torch\n",
    "import pandas as pd"
   ]
  },
  {
   "cell_type": "code",
   "execution_count": 3,
   "id": "9bf0f1c9",
   "metadata": {},
   "outputs": [],
   "source": [
    "def remove_clf_layers(model: nn.Sequential):\n",
    "    \"\"\"\n",
    "    Remove the classification layers from braindecode models.\n",
    "    Tested on EEGNetv4, Deep4Net (i.e. DeepConvNet), and EEGResNet.\n",
    "    \"\"\"\n",
    "    new_layers = []\n",
    "    for name, layer in model.named_children():\n",
    "        if 'classif' in name:\n",
    "            continue\n",
    "        if 'softmax' in name:\n",
    "            continue\n",
    "        new_layers.append((name, layer))\n",
    "    return nn.Sequential(OrderedDict(new_layers))\n",
    "\n",
    "\n",
    "def freeze_model(model):\n",
    "    model.eval()\n",
    "    for param in model.parameters():\n",
    "        param.requires_grad = False\n",
    "    return model\n"
   ]
  },
  {
   "cell_type": "code",
   "execution_count": 4,
   "id": "84cc5c10",
   "metadata": {},
   "outputs": [],
   "source": [
    "class FrozenNeuralNetTransformer(NeuralNet, TransformerMixin):\n",
    "    def __init__(\n",
    "            self,\n",
    "            *args,\n",
    "            criterion=nn.MSELoss,  # should be unused\n",
    "            unique_name=None,  # needed for a unique digest in MOABB\n",
    "            **kwargs\n",
    "    ):\n",
    "        super().__init__(\n",
    "            *args,\n",
    "            criterion=criterion,\n",
    "            **kwargs\n",
    "        )\n",
    "        self.initialize()\n",
    "        self.unique_name = unique_name\n",
    "\n",
    "    def fit(self, X, y=None, **fit_params):\n",
    "        return self  # do nothing\n",
    "\n",
    "    def transform(self, X):\n",
    "        X = self.infer(X)\n",
    "        return to_numpy(X)\n",
    "\n",
    "    def __repr__(self):\n",
    "        return super().__repr__() + self.unique_name\n",
    "    \n",
    "def flatten_batched(X):\n",
    "    return X.reshape(X.shape[0], -1)"
   ]
  },
  {
   "cell_type": "code",
   "execution_count": null,
   "id": "ecb1a966",
   "metadata": {},
   "outputs": [
    {
     "name": "stderr",
     "output_type": "stream",
     "text": [
      "/Users/andresalvarezolmo/Documents/hume/ACS/playground/BCI-2023-Workshop_Learning-from-small-datasets/venv/lib/python3.10/site-packages/braindecode/models/base.py:23: UserWarning: EEGNetv4: 'in_chans' is depreciated. Use 'n_chans' instead.\n",
      "  warnings.warn(\n",
      "/Users/andresalvarezolmo/Documents/hume/ACS/playground/BCI-2023-Workshop_Learning-from-small-datasets/venv/lib/python3.10/site-packages/braindecode/models/base.py:23: UserWarning: EEGNetv4: 'n_classes' is depreciated. Use 'n_outputs' instead.\n",
      "  warnings.warn(\n",
      "/Users/andresalvarezolmo/Documents/hume/ACS/playground/BCI-2023-Workshop_Learning-from-small-datasets/venv/lib/python3.10/site-packages/braindecode/models/base.py:23: UserWarning: EEGNetv4: 'input_window_samples' is depreciated. Use 'n_times' instead.\n",
      "  warnings.warn(\n"
     ]
    }
   ],
   "source": [
    "import pickle\n",
    "\n",
    "# download the model from the hub:\n",
    "path_kwargs = hf_hub_download(\n",
    "    repo_id='PierreGtch/EEGNetv4',\n",
    "    filename='EEGNetv4_Lee2019_MI/kwargs.pkl',\n",
    ")\n",
    "path_params = hf_hub_download(\n",
    "    repo_id='PierreGtch/EEGNetv4',\n",
    "    filename='EEGNetv4_Lee2019_MI/model-params.pkl',\n",
    ")\n",
    "with open(path_kwargs, 'rb') as f:\n",
    "    kwargs = pickle.load(f)\n",
    "module_cls = kwargs['module_cls']\n",
    "module_kwargs = kwargs['module_kwargs']\n",
    "\n",
    "# load the model with pre-trained weights:\n",
    "torch_module = module_cls(**module_kwargs)\n",
    "torch_module.load_state_dict(torch.load(path_params, map_location='cpu'))\n",
    "embedding = freeze_model(remove_clf_layers(torch_module)).double()\n",
    "\n",
    "# Integrate the model in a Scikit-learn pipeline:\n",
    "sklearn_pipeline = Pipeline([\n",
    "    ('embedding', FrozenNeuralNetTransformer(embedding, unique_name='pretrained_Lee2019')),\n",
    "    ('flatten', FunctionTransformer(flatten_batched)),\n",
    "    ('classifier', LogisticRegression()),\n",
    "])"
   ]
  },
  {
   "cell_type": "code",
   "execution_count": 6,
   "id": "c1ec3487",
   "metadata": {},
   "outputs": [],
   "source": [
    "paradigm = MotorImagery(\n",
    "    channels=['C3', 'Cz', 'C4'],  # Same as the ones used to pre-train the embedding\n",
    "    events=['left_hand', 'right_hand', 'feet'],\n",
    "    n_classes=3,\n",
    "    fmin=0.5,\n",
    "    fmax=40,\n",
    "    tmin=0,\n",
    "    tmax=3,\n",
    "    resample=128\n",
    ")\n",
    "datasets = [Zhou2016()]\n",
    "evaluation = WithinSessionEvaluation(\n",
    "    paradigm=paradigm,\n",
    "    datasets=datasets,\n",
    "    overwrite=True,\n",
    "    suffix='demo',\n",
    ")"
   ]
  },
  {
   "cell_type": "code",
   "execution_count": 7,
   "id": "21337710",
   "metadata": {},
   "outputs": [
    {
     "name": "stderr",
     "output_type": "stream",
     "text": [
      "Zhou2016-WithinSession:   0%|          | 0/4 [00:00<?, ?it/s]"
     ]
    },
    {
     "name": "stdout",
     "output_type": "stream",
     "text": [
      "Reading 0 ... 305029  =      0.000 ...  1220.116 secs...\n"
     ]
    },
    {
     "name": "stderr",
     "output_type": "stream",
     "text": [
      "/Users/andresalvarezolmo/Documents/hume/ACS/playground/BCI-2023-Workshop_Learning-from-small-datasets/venv/lib/python3.10/site-packages/moabb/datasets/Zhou2016.py:104: RuntimeWarning:   Could not parse meas date from the header. Setting to None.\n",
      "  raw = read_raw_cnt(fname, preload=True, eog=[\"VEOU\", \"VEOL\"])\n",
      "/Users/andresalvarezolmo/Documents/hume/ACS/playground/BCI-2023-Workshop_Learning-from-small-datasets/venv/lib/python3.10/site-packages/moabb/datasets/Zhou2016.py:104: RuntimeWarning: Could not define the number of bytes automatically. Defaulting to 2.\n",
      "  raw = read_raw_cnt(fname, preload=True, eog=[\"VEOU\", \"VEOL\"])\n"
     ]
    },
    {
     "name": "stdout",
     "output_type": "stream",
     "text": [
      "Used Annotations descriptions: ['feet', 'left_hand', 'right_hand']\n",
      "Reading 0 ... 430479  =      0.000 ...  1721.916 secs...\n"
     ]
    },
    {
     "name": "stderr",
     "output_type": "stream",
     "text": [
      "/Users/andresalvarezolmo/Documents/hume/ACS/playground/BCI-2023-Workshop_Learning-from-small-datasets/venv/lib/python3.10/site-packages/moabb/datasets/Zhou2016.py:104: RuntimeWarning:   Could not parse meas date from the header. Setting to None.\n",
      "  raw = read_raw_cnt(fname, preload=True, eog=[\"VEOU\", \"VEOL\"])\n",
      "/Users/andresalvarezolmo/Documents/hume/ACS/playground/BCI-2023-Workshop_Learning-from-small-datasets/venv/lib/python3.10/site-packages/moabb/datasets/Zhou2016.py:104: RuntimeWarning: Could not define the number of bytes automatically. Defaulting to 2.\n",
      "  raw = read_raw_cnt(fname, preload=True, eog=[\"VEOU\", \"VEOL\"])\n"
     ]
    },
    {
     "name": "stdout",
     "output_type": "stream",
     "text": [
      "Used Annotations descriptions: ['feet', 'left_hand', 'right_hand']\n",
      "Reading 0 ... 252599  =      0.000 ...  1010.396 secs...\n",
      "Used Annotations descriptions: ['feet', 'left_hand', 'right_hand']\n",
      "Reading 0 ... 296649  =      0.000 ...  1186.596 secs...\n"
     ]
    },
    {
     "name": "stderr",
     "output_type": "stream",
     "text": [
      "/Users/andresalvarezolmo/Documents/hume/ACS/playground/BCI-2023-Workshop_Learning-from-small-datasets/venv/lib/python3.10/site-packages/moabb/datasets/Zhou2016.py:104: RuntimeWarning:   Could not parse meas date from the header. Setting to None.\n",
      "  raw = read_raw_cnt(fname, preload=True, eog=[\"VEOU\", \"VEOL\"])\n",
      "/Users/andresalvarezolmo/Documents/hume/ACS/playground/BCI-2023-Workshop_Learning-from-small-datasets/venv/lib/python3.10/site-packages/moabb/datasets/Zhou2016.py:104: RuntimeWarning: Could not define the number of bytes automatically. Defaulting to 2.\n",
      "  raw = read_raw_cnt(fname, preload=True, eog=[\"VEOU\", \"VEOL\"])\n",
      "/Users/andresalvarezolmo/Documents/hume/ACS/playground/BCI-2023-Workshop_Learning-from-small-datasets/venv/lib/python3.10/site-packages/moabb/datasets/Zhou2016.py:104: RuntimeWarning:   Could not parse meas date from the header. Setting to None.\n",
      "  raw = read_raw_cnt(fname, preload=True, eog=[\"VEOU\", \"VEOL\"])\n",
      "/Users/andresalvarezolmo/Documents/hume/ACS/playground/BCI-2023-Workshop_Learning-from-small-datasets/venv/lib/python3.10/site-packages/moabb/datasets/Zhou2016.py:104: RuntimeWarning: Could not define the number of bytes automatically. Defaulting to 2.\n",
      "  raw = read_raw_cnt(fname, preload=True, eog=[\"VEOU\", \"VEOL\"])\n"
     ]
    },
    {
     "name": "stdout",
     "output_type": "stream",
     "text": [
      "Used Annotations descriptions: ['feet', 'left_hand', 'right_hand']\n",
      "Reading 0 ... 233249  =      0.000 ...   932.996 secs...\n",
      "Used Annotations descriptions: ['feet', 'left_hand', 'right_hand']\n",
      "Reading 0 ... 226219  =      0.000 ...   904.876 secs...\n"
     ]
    },
    {
     "name": "stderr",
     "output_type": "stream",
     "text": [
      "/Users/andresalvarezolmo/Documents/hume/ACS/playground/BCI-2023-Workshop_Learning-from-small-datasets/venv/lib/python3.10/site-packages/moabb/datasets/Zhou2016.py:104: RuntimeWarning:   Could not parse meas date from the header. Setting to None.\n",
      "  raw = read_raw_cnt(fname, preload=True, eog=[\"VEOU\", \"VEOL\"])\n",
      "/Users/andresalvarezolmo/Documents/hume/ACS/playground/BCI-2023-Workshop_Learning-from-small-datasets/venv/lib/python3.10/site-packages/moabb/datasets/Zhou2016.py:104: RuntimeWarning: Could not define the number of bytes automatically. Defaulting to 2.\n",
      "  raw = read_raw_cnt(fname, preload=True, eog=[\"VEOU\", \"VEOL\"])\n",
      "/Users/andresalvarezolmo/Documents/hume/ACS/playground/BCI-2023-Workshop_Learning-from-small-datasets/venv/lib/python3.10/site-packages/moabb/datasets/Zhou2016.py:104: RuntimeWarning:   Could not parse meas date from the header. Setting to None.\n",
      "  raw = read_raw_cnt(fname, preload=True, eog=[\"VEOU\", \"VEOL\"])\n",
      "/Users/andresalvarezolmo/Documents/hume/ACS/playground/BCI-2023-Workshop_Learning-from-small-datasets/venv/lib/python3.10/site-packages/moabb/datasets/Zhou2016.py:104: RuntimeWarning: Could not define the number of bytes automatically. Defaulting to 2.\n",
      "  raw = read_raw_cnt(fname, preload=True, eog=[\"VEOU\", \"VEOL\"])\n"
     ]
    },
    {
     "name": "stdout",
     "output_type": "stream",
     "text": [
      "Used Annotations descriptions: ['feet', 'left_hand', 'right_hand']\n"
     ]
    },
    {
     "name": "stderr",
     "output_type": "stream",
     "text": [
      "/Users/andresalvarezolmo/Documents/hume/ACS/playground/BCI-2023-Workshop_Learning-from-small-datasets/venv/lib/python3.10/site-packages/moabb/datasets/preprocessing.py:278: UserWarning: warnEpochs <Epochs | 90 events (all good), 0 – 3 s (baseline off), ~1.6 MiB, data loaded,\n",
      " 'left_hand': 30\n",
      " 'right_hand': 30\n",
      " 'feet': 30>\n",
      "  warn(f\"warnEpochs {epochs}\")\n",
      "/Users/andresalvarezolmo/Documents/hume/ACS/playground/BCI-2023-Workshop_Learning-from-small-datasets/venv/lib/python3.10/site-packages/moabb/datasets/preprocessing.py:278: UserWarning: warnEpochs <Epochs | 89 events (all good), 0 – 3 s (baseline off), ~1.5 MiB, data loaded,\n",
      " 'left_hand': 30\n",
      " 'right_hand': 29\n",
      " 'feet': 30>\n",
      "  warn(f\"warnEpochs {epochs}\")\n",
      "/Users/andresalvarezolmo/Documents/hume/ACS/playground/BCI-2023-Workshop_Learning-from-small-datasets/venv/lib/python3.10/site-packages/moabb/datasets/preprocessing.py:278: UserWarning: warnEpochs <Epochs | 75 events (all good), 0 – 3 s (baseline off), ~1.3 MiB, data loaded,\n",
      " 'left_hand': 25\n",
      " 'right_hand': 25\n",
      " 'feet': 25>\n",
      "  warn(f\"warnEpochs {epochs}\")\n",
      "/Users/andresalvarezolmo/Documents/hume/ACS/playground/BCI-2023-Workshop_Learning-from-small-datasets/venv/lib/python3.10/site-packages/moabb/datasets/preprocessing.py:278: UserWarning: warnEpochs <Epochs | 75 events (all good), 0 – 3 s (baseline off), ~1.3 MiB, data loaded,\n",
      " 'left_hand': 25\n",
      " 'right_hand': 25\n",
      " 'feet': 25>\n",
      "  warn(f\"warnEpochs {epochs}\")\n",
      "/Users/andresalvarezolmo/Documents/hume/ACS/playground/BCI-2023-Workshop_Learning-from-small-datasets/venv/lib/python3.10/site-packages/moabb/datasets/preprocessing.py:278: UserWarning: warnEpochs <Epochs | 75 events (all good), 0 – 3 s (baseline off), ~1.3 MiB, data loaded,\n",
      " 'left_hand': 25\n",
      " 'right_hand': 25\n",
      " 'feet': 25>\n",
      "  warn(f\"warnEpochs {epochs}\")\n",
      "/Users/andresalvarezolmo/Documents/hume/ACS/playground/BCI-2023-Workshop_Learning-from-small-datasets/venv/lib/python3.10/site-packages/moabb/datasets/preprocessing.py:278: UserWarning: warnEpochs <Epochs | 75 events (all good), 0 – 3 s (baseline off), ~1.3 MiB, data loaded,\n",
      " 'left_hand': 25\n",
      " 'right_hand': 25\n",
      " 'feet': 25>\n",
      "  warn(f\"warnEpochs {epochs}\")\n"
     ]
    },
    {
     "name": "stdout",
     "output_type": "stream",
     "text": [
      "No hdf5_path provided, models will not be saved.\n",
      "No hdf5_path provided, models will not be saved.\n",
      "No hdf5_path provided, models will not be saved.\n"
     ]
    },
    {
     "name": "stderr",
     "output_type": "stream",
     "text": [
      "Zhou2016-WithinSession:  25%|██▌       | 1/4 [00:03<00:09,  3.08s/it]"
     ]
    },
    {
     "name": "stdout",
     "output_type": "stream",
     "text": [
      "Reading 0 ... 227539  =      0.000 ...   910.156 secs...\n"
     ]
    },
    {
     "name": "stderr",
     "output_type": "stream",
     "text": [
      "/Users/andresalvarezolmo/Documents/hume/ACS/playground/BCI-2023-Workshop_Learning-from-small-datasets/venv/lib/python3.10/site-packages/moabb/datasets/Zhou2016.py:104: RuntimeWarning: Could not define the number of bytes automatically. Defaulting to 2.\n",
      "  raw = read_raw_cnt(fname, preload=True, eog=[\"VEOU\", \"VEOL\"])\n"
     ]
    },
    {
     "name": "stdout",
     "output_type": "stream",
     "text": [
      "Used Annotations descriptions: ['feet', 'left_hand', 'right_hand']\n",
      "Reading 0 ... 216079  =      0.000 ...   864.316 secs...\n"
     ]
    },
    {
     "name": "stderr",
     "output_type": "stream",
     "text": [
      "/Users/andresalvarezolmo/Documents/hume/ACS/playground/BCI-2023-Workshop_Learning-from-small-datasets/venv/lib/python3.10/site-packages/moabb/datasets/Zhou2016.py:104: RuntimeWarning: Could not define the number of bytes automatically. Defaulting to 2.\n",
      "  raw = read_raw_cnt(fname, preload=True, eog=[\"VEOU\", \"VEOL\"])\n"
     ]
    },
    {
     "name": "stdout",
     "output_type": "stream",
     "text": [
      "Used Annotations descriptions: ['feet', 'left_hand', 'right_hand']\n",
      "Reading 0 ... 213939  =      0.000 ...   855.756 secs...\n"
     ]
    },
    {
     "name": "stderr",
     "output_type": "stream",
     "text": [
      "/Users/andresalvarezolmo/Documents/hume/ACS/playground/BCI-2023-Workshop_Learning-from-small-datasets/venv/lib/python3.10/site-packages/moabb/datasets/Zhou2016.py:104: RuntimeWarning:   Could not parse meas date from the header. Setting to None.\n",
      "  raw = read_raw_cnt(fname, preload=True, eog=[\"VEOU\", \"VEOL\"])\n",
      "/Users/andresalvarezolmo/Documents/hume/ACS/playground/BCI-2023-Workshop_Learning-from-small-datasets/venv/lib/python3.10/site-packages/moabb/datasets/Zhou2016.py:104: RuntimeWarning: Could not define the number of bytes automatically. Defaulting to 2.\n",
      "  raw = read_raw_cnt(fname, preload=True, eog=[\"VEOU\", \"VEOL\"])\n"
     ]
    },
    {
     "name": "stdout",
     "output_type": "stream",
     "text": [
      "Used Annotations descriptions: ['feet', 'left_hand', 'right_hand']\n",
      "Reading 0 ... 175269  =      0.000 ...   701.076 secs...\n"
     ]
    },
    {
     "name": "stderr",
     "output_type": "stream",
     "text": [
      "/Users/andresalvarezolmo/Documents/hume/ACS/playground/BCI-2023-Workshop_Learning-from-small-datasets/venv/lib/python3.10/site-packages/moabb/datasets/Zhou2016.py:104: RuntimeWarning:   Could not parse meas date from the header. Setting to None.\n",
      "  raw = read_raw_cnt(fname, preload=True, eog=[\"VEOU\", \"VEOL\"])\n",
      "/Users/andresalvarezolmo/Documents/hume/ACS/playground/BCI-2023-Workshop_Learning-from-small-datasets/venv/lib/python3.10/site-packages/moabb/datasets/Zhou2016.py:104: RuntimeWarning: Could not define the number of bytes automatically. Defaulting to 2.\n",
      "  raw = read_raw_cnt(fname, preload=True, eog=[\"VEOU\", \"VEOL\"])\n"
     ]
    },
    {
     "name": "stdout",
     "output_type": "stream",
     "text": [
      "Used Annotations descriptions: ['feet', 'left_hand', 'right_hand']\n",
      "Reading 0 ... 213209  =      0.000 ...   852.836 secs...\n"
     ]
    },
    {
     "name": "stderr",
     "output_type": "stream",
     "text": [
      "/Users/andresalvarezolmo/Documents/hume/ACS/playground/BCI-2023-Workshop_Learning-from-small-datasets/venv/lib/python3.10/site-packages/moabb/datasets/Zhou2016.py:104: RuntimeWarning:   Could not parse meas date from the header. Setting to None.\n",
      "  raw = read_raw_cnt(fname, preload=True, eog=[\"VEOU\", \"VEOL\"])\n",
      "/Users/andresalvarezolmo/Documents/hume/ACS/playground/BCI-2023-Workshop_Learning-from-small-datasets/venv/lib/python3.10/site-packages/moabb/datasets/Zhou2016.py:104: RuntimeWarning: Could not define the number of bytes automatically. Defaulting to 2.\n",
      "  raw = read_raw_cnt(fname, preload=True, eog=[\"VEOU\", \"VEOL\"])\n"
     ]
    },
    {
     "name": "stdout",
     "output_type": "stream",
     "text": [
      "Used Annotations descriptions: ['feet', 'left_hand', 'right_hand']\n",
      "Reading 0 ... 217659  =      0.000 ...   870.636 secs...\n"
     ]
    },
    {
     "name": "stderr",
     "output_type": "stream",
     "text": [
      "/Users/andresalvarezolmo/Documents/hume/ACS/playground/BCI-2023-Workshop_Learning-from-small-datasets/venv/lib/python3.10/site-packages/moabb/datasets/Zhou2016.py:104: RuntimeWarning:   Could not parse meas date from the header. Setting to None.\n",
      "  raw = read_raw_cnt(fname, preload=True, eog=[\"VEOU\", \"VEOL\"])\n",
      "/Users/andresalvarezolmo/Documents/hume/ACS/playground/BCI-2023-Workshop_Learning-from-small-datasets/venv/lib/python3.10/site-packages/moabb/datasets/Zhou2016.py:104: RuntimeWarning: Could not define the number of bytes automatically. Defaulting to 2.\n",
      "  raw = read_raw_cnt(fname, preload=True, eog=[\"VEOU\", \"VEOL\"])\n"
     ]
    },
    {
     "name": "stdout",
     "output_type": "stream",
     "text": [
      "Used Annotations descriptions: ['feet', 'left_hand', 'right_hand']\n"
     ]
    },
    {
     "name": "stderr",
     "output_type": "stream",
     "text": [
      "/Users/andresalvarezolmo/Documents/hume/ACS/playground/BCI-2023-Workshop_Learning-from-small-datasets/venv/lib/python3.10/site-packages/moabb/datasets/preprocessing.py:278: UserWarning: warnEpochs <Epochs | 75 events (all good), 0 – 3 s (baseline off), ~1.3 MiB, data loaded,\n",
      " 'left_hand': 25\n",
      " 'right_hand': 25\n",
      " 'feet': 25>\n",
      "  warn(f\"warnEpochs {epochs}\")\n",
      "/Users/andresalvarezolmo/Documents/hume/ACS/playground/BCI-2023-Workshop_Learning-from-small-datasets/venv/lib/python3.10/site-packages/moabb/datasets/preprocessing.py:278: UserWarning: warnEpochs <Epochs | 75 events (all good), 0 – 3 s (baseline off), ~1.3 MiB, data loaded,\n",
      " 'left_hand': 25\n",
      " 'right_hand': 25\n",
      " 'feet': 25>\n",
      "  warn(f\"warnEpochs {epochs}\")\n",
      "/Users/andresalvarezolmo/Documents/hume/ACS/playground/BCI-2023-Workshop_Learning-from-small-datasets/venv/lib/python3.10/site-packages/moabb/datasets/preprocessing.py:278: UserWarning: warnEpochs <Epochs | 75 events (all good), 0 – 3 s (baseline off), ~1.3 MiB, data loaded,\n",
      " 'left_hand': 25\n",
      " 'right_hand': 25\n",
      " 'feet': 25>\n",
      "  warn(f\"warnEpochs {epochs}\")\n",
      "/Users/andresalvarezolmo/Documents/hume/ACS/playground/BCI-2023-Workshop_Learning-from-small-datasets/venv/lib/python3.10/site-packages/moabb/datasets/preprocessing.py:278: UserWarning: warnEpochs <Epochs | 60 events (all good), 0 – 3 s (baseline off), ~1.0 MiB, data loaded,\n",
      " 'left_hand': 20\n",
      " 'right_hand': 20\n",
      " 'feet': 20>\n",
      "  warn(f\"warnEpochs {epochs}\")\n",
      "/Users/andresalvarezolmo/Documents/hume/ACS/playground/BCI-2023-Workshop_Learning-from-small-datasets/venv/lib/python3.10/site-packages/moabb/datasets/preprocessing.py:278: UserWarning: warnEpochs <Epochs | 75 events (all good), 0 – 3 s (baseline off), ~1.3 MiB, data loaded,\n",
      " 'left_hand': 25\n",
      " 'right_hand': 25\n",
      " 'feet': 25>\n",
      "  warn(f\"warnEpochs {epochs}\")\n",
      "/Users/andresalvarezolmo/Documents/hume/ACS/playground/BCI-2023-Workshop_Learning-from-small-datasets/venv/lib/python3.10/site-packages/moabb/datasets/preprocessing.py:278: UserWarning: warnEpochs <Epochs | 75 events (all good), 0 – 3 s (baseline off), ~1.3 MiB, data loaded,\n",
      " 'left_hand': 25\n",
      " 'right_hand': 25\n",
      " 'feet': 25>\n",
      "  warn(f\"warnEpochs {epochs}\")\n"
     ]
    },
    {
     "name": "stdout",
     "output_type": "stream",
     "text": [
      "No hdf5_path provided, models will not be saved.\n",
      "No hdf5_path provided, models will not be saved.\n",
      "No hdf5_path provided, models will not be saved.\n"
     ]
    },
    {
     "name": "stderr",
     "output_type": "stream",
     "text": [
      "Zhou2016-WithinSession:  50%|█████     | 2/4 [00:05<00:05,  2.62s/it]"
     ]
    },
    {
     "name": "stdout",
     "output_type": "stream",
     "text": [
      "Reading 0 ... 219849  =      0.000 ...   879.396 secs...\n",
      "Used Annotations descriptions: ['feet', 'left_hand', 'right_hand']\n"
     ]
    },
    {
     "name": "stderr",
     "output_type": "stream",
     "text": [
      "/Users/andresalvarezolmo/Documents/hume/ACS/playground/BCI-2023-Workshop_Learning-from-small-datasets/venv/lib/python3.10/site-packages/moabb/datasets/Zhou2016.py:104: RuntimeWarning: Could not define the number of bytes automatically. Defaulting to 2.\n",
      "  raw = read_raw_cnt(fname, preload=True, eog=[\"VEOU\", \"VEOL\"])\n"
     ]
    },
    {
     "name": "stdout",
     "output_type": "stream",
     "text": [
      "Reading 0 ... 216709  =      0.000 ...   866.836 secs...\n"
     ]
    },
    {
     "name": "stderr",
     "output_type": "stream",
     "text": [
      "/Users/andresalvarezolmo/Documents/hume/ACS/playground/BCI-2023-Workshop_Learning-from-small-datasets/venv/lib/python3.10/site-packages/moabb/datasets/Zhou2016.py:104: RuntimeWarning: Could not define the number of bytes automatically. Defaulting to 2.\n",
      "  raw = read_raw_cnt(fname, preload=True, eog=[\"VEOU\", \"VEOL\"])\n"
     ]
    },
    {
     "name": "stdout",
     "output_type": "stream",
     "text": [
      "Used Annotations descriptions: ['feet', 'left_hand', 'right_hand']\n",
      "Reading 0 ... 226609  =      0.000 ...   906.436 secs...\n"
     ]
    },
    {
     "name": "stderr",
     "output_type": "stream",
     "text": [
      "/Users/andresalvarezolmo/Documents/hume/ACS/playground/BCI-2023-Workshop_Learning-from-small-datasets/venv/lib/python3.10/site-packages/moabb/datasets/Zhou2016.py:104: RuntimeWarning:   Could not parse meas date from the header. Setting to None.\n",
      "  raw = read_raw_cnt(fname, preload=True, eog=[\"VEOU\", \"VEOL\"])\n",
      "/Users/andresalvarezolmo/Documents/hume/ACS/playground/BCI-2023-Workshop_Learning-from-small-datasets/venv/lib/python3.10/site-packages/moabb/datasets/Zhou2016.py:104: RuntimeWarning: Could not define the number of bytes automatically. Defaulting to 2.\n",
      "  raw = read_raw_cnt(fname, preload=True, eog=[\"VEOU\", \"VEOL\"])\n"
     ]
    },
    {
     "name": "stdout",
     "output_type": "stream",
     "text": [
      "Used Annotations descriptions: ['feet', 'left_hand', 'right_hand']\n",
      "Reading 0 ... 266929  =      0.000 ...  1067.716 secs...\n"
     ]
    },
    {
     "name": "stderr",
     "output_type": "stream",
     "text": [
      "/Users/andresalvarezolmo/Documents/hume/ACS/playground/BCI-2023-Workshop_Learning-from-small-datasets/venv/lib/python3.10/site-packages/moabb/datasets/Zhou2016.py:104: RuntimeWarning:   Could not parse meas date from the header. Setting to None.\n",
      "  raw = read_raw_cnt(fname, preload=True, eog=[\"VEOU\", \"VEOL\"])\n",
      "/Users/andresalvarezolmo/Documents/hume/ACS/playground/BCI-2023-Workshop_Learning-from-small-datasets/venv/lib/python3.10/site-packages/moabb/datasets/Zhou2016.py:104: RuntimeWarning: Could not define the number of bytes automatically. Defaulting to 2.\n",
      "  raw = read_raw_cnt(fname, preload=True, eog=[\"VEOU\", \"VEOL\"])\n"
     ]
    },
    {
     "name": "stdout",
     "output_type": "stream",
     "text": [
      "Used Annotations descriptions: ['feet', 'left_hand', 'right_hand']\n",
      "Reading 0 ... 227989  =      0.000 ...   911.956 secs...\n"
     ]
    },
    {
     "name": "stderr",
     "output_type": "stream",
     "text": [
      "/Users/andresalvarezolmo/Documents/hume/ACS/playground/BCI-2023-Workshop_Learning-from-small-datasets/venv/lib/python3.10/site-packages/moabb/datasets/Zhou2016.py:104: RuntimeWarning: Could not define the number of bytes automatically. Defaulting to 2.\n",
      "  raw = read_raw_cnt(fname, preload=True, eog=[\"VEOU\", \"VEOL\"])\n"
     ]
    },
    {
     "name": "stdout",
     "output_type": "stream",
     "text": [
      "Used Annotations descriptions: ['feet', 'left_hand', 'right_hand']\n",
      "Reading 0 ... 222459  =      0.000 ...   889.836 secs...\n"
     ]
    },
    {
     "name": "stderr",
     "output_type": "stream",
     "text": [
      "/Users/andresalvarezolmo/Documents/hume/ACS/playground/BCI-2023-Workshop_Learning-from-small-datasets/venv/lib/python3.10/site-packages/moabb/datasets/Zhou2016.py:104: RuntimeWarning: Could not define the number of bytes automatically. Defaulting to 2.\n",
      "  raw = read_raw_cnt(fname, preload=True, eog=[\"VEOU\", \"VEOL\"])\n"
     ]
    },
    {
     "name": "stdout",
     "output_type": "stream",
     "text": [
      "Used Annotations descriptions: ['feet', 'left_hand', 'right_hand']\n"
     ]
    },
    {
     "name": "stderr",
     "output_type": "stream",
     "text": [
      "/Users/andresalvarezolmo/Documents/hume/ACS/playground/BCI-2023-Workshop_Learning-from-small-datasets/venv/lib/python3.10/site-packages/moabb/datasets/preprocessing.py:278: UserWarning: warnEpochs <Epochs | 75 events (all good), 0 – 3 s (baseline off), ~1.3 MiB, data loaded,\n",
      " 'left_hand': 25\n",
      " 'right_hand': 25\n",
      " 'feet': 25>\n",
      "  warn(f\"warnEpochs {epochs}\")\n",
      "/Users/andresalvarezolmo/Documents/hume/ACS/playground/BCI-2023-Workshop_Learning-from-small-datasets/venv/lib/python3.10/site-packages/moabb/datasets/preprocessing.py:278: UserWarning: warnEpochs <Epochs | 75 events (all good), 0 – 3 s (baseline off), ~1.3 MiB, data loaded,\n",
      " 'left_hand': 25\n",
      " 'right_hand': 25\n",
      " 'feet': 25>\n",
      "  warn(f\"warnEpochs {epochs}\")\n",
      "/Users/andresalvarezolmo/Documents/hume/ACS/playground/BCI-2023-Workshop_Learning-from-small-datasets/venv/lib/python3.10/site-packages/moabb/datasets/preprocessing.py:278: UserWarning: warnEpochs <Epochs | 75 events (all good), 0 – 3 s (baseline off), ~1.3 MiB, data loaded,\n",
      " 'left_hand': 25\n",
      " 'right_hand': 25\n",
      " 'feet': 25>\n",
      "  warn(f\"warnEpochs {epochs}\")\n",
      "/Users/andresalvarezolmo/Documents/hume/ACS/playground/BCI-2023-Workshop_Learning-from-small-datasets/venv/lib/python3.10/site-packages/moabb/datasets/preprocessing.py:278: UserWarning: warnEpochs <Epochs | 76 events (all good), 0 – 3 s (baseline off), ~1.3 MiB, data loaded,\n",
      " 'left_hand': 25\n",
      " 'right_hand': 25\n",
      " 'feet': 26>\n",
      "  warn(f\"warnEpochs {epochs}\")\n",
      "/Users/andresalvarezolmo/Documents/hume/ACS/playground/BCI-2023-Workshop_Learning-from-small-datasets/venv/lib/python3.10/site-packages/moabb/datasets/preprocessing.py:278: UserWarning: warnEpochs <Epochs | 75 events (all good), 0 – 3 s (baseline off), ~1.3 MiB, data loaded,\n",
      " 'left_hand': 25\n",
      " 'right_hand': 25\n",
      " 'feet': 25>\n",
      "  warn(f\"warnEpochs {epochs}\")\n",
      "/Users/andresalvarezolmo/Documents/hume/ACS/playground/BCI-2023-Workshop_Learning-from-small-datasets/venv/lib/python3.10/site-packages/moabb/datasets/preprocessing.py:278: UserWarning: warnEpochs <Epochs | 75 events (all good), 0 – 3 s (baseline off), ~1.3 MiB, data loaded,\n",
      " 'left_hand': 25\n",
      " 'right_hand': 25\n",
      " 'feet': 25>\n",
      "  warn(f\"warnEpochs {epochs}\")\n"
     ]
    },
    {
     "name": "stdout",
     "output_type": "stream",
     "text": [
      "No hdf5_path provided, models will not be saved.\n",
      "No hdf5_path provided, models will not be saved.\n",
      "No hdf5_path provided, models will not be saved.\n"
     ]
    },
    {
     "name": "stderr",
     "output_type": "stream",
     "text": [
      "Zhou2016-WithinSession:  75%|███████▌  | 3/4 [00:08<00:02,  2.67s/it]"
     ]
    },
    {
     "name": "stdout",
     "output_type": "stream",
     "text": [
      "Reading 0 ... 181339  =      0.000 ...   725.356 secs...\n"
     ]
    },
    {
     "name": "stderr",
     "output_type": "stream",
     "text": [
      "/Users/andresalvarezolmo/Documents/hume/ACS/playground/BCI-2023-Workshop_Learning-from-small-datasets/venv/lib/python3.10/site-packages/moabb/datasets/Zhou2016.py:104: RuntimeWarning: Could not define the number of bytes automatically. Defaulting to 2.\n",
      "  raw = read_raw_cnt(fname, preload=True, eog=[\"VEOU\", \"VEOL\"])\n"
     ]
    },
    {
     "name": "stdout",
     "output_type": "stream",
     "text": [
      "Used Annotations descriptions: ['feet', 'left_hand', 'right_hand']\n",
      "Reading 0 ... 217139  =      0.000 ...   868.556 secs...\n"
     ]
    },
    {
     "name": "stderr",
     "output_type": "stream",
     "text": [
      "/Users/andresalvarezolmo/Documents/hume/ACS/playground/BCI-2023-Workshop_Learning-from-small-datasets/venv/lib/python3.10/site-packages/moabb/datasets/Zhou2016.py:104: RuntimeWarning: Could not define the number of bytes automatically. Defaulting to 2.\n",
      "  raw = read_raw_cnt(fname, preload=True, eog=[\"VEOU\", \"VEOL\"])\n"
     ]
    },
    {
     "name": "stdout",
     "output_type": "stream",
     "text": [
      "Used Annotations descriptions: ['feet', 'left_hand', 'right_hand']\n",
      "Reading 0 ... 215399  =      0.000 ...   861.596 secs...\n",
      "Used Annotations descriptions: ['feet', 'left_hand', 'right_hand']\n",
      "Reading 0 ... 212209  =      0.000 ...   848.836 secs...\n"
     ]
    },
    {
     "name": "stderr",
     "output_type": "stream",
     "text": [
      "/Users/andresalvarezolmo/Documents/hume/ACS/playground/BCI-2023-Workshop_Learning-from-small-datasets/venv/lib/python3.10/site-packages/moabb/datasets/Zhou2016.py:104: RuntimeWarning:   Could not parse meas date from the header. Setting to None.\n",
      "  raw = read_raw_cnt(fname, preload=True, eog=[\"VEOU\", \"VEOL\"])\n",
      "/Users/andresalvarezolmo/Documents/hume/ACS/playground/BCI-2023-Workshop_Learning-from-small-datasets/venv/lib/python3.10/site-packages/moabb/datasets/Zhou2016.py:104: RuntimeWarning: Could not define the number of bytes automatically. Defaulting to 2.\n",
      "  raw = read_raw_cnt(fname, preload=True, eog=[\"VEOU\", \"VEOL\"])\n",
      "/Users/andresalvarezolmo/Documents/hume/ACS/playground/BCI-2023-Workshop_Learning-from-small-datasets/venv/lib/python3.10/site-packages/moabb/datasets/Zhou2016.py:104: RuntimeWarning:   Could not parse meas date from the header. Setting to None.\n",
      "  raw = read_raw_cnt(fname, preload=True, eog=[\"VEOU\", \"VEOL\"])\n",
      "/Users/andresalvarezolmo/Documents/hume/ACS/playground/BCI-2023-Workshop_Learning-from-small-datasets/venv/lib/python3.10/site-packages/moabb/datasets/Zhou2016.py:104: RuntimeWarning: Could not define the number of bytes automatically. Defaulting to 2.\n",
      "  raw = read_raw_cnt(fname, preload=True, eog=[\"VEOU\", \"VEOL\"])\n"
     ]
    },
    {
     "name": "stdout",
     "output_type": "stream",
     "text": [
      "Used Annotations descriptions: ['feet', 'left_hand', 'right_hand']\n",
      "Reading 0 ... 209799  =      0.000 ...   839.196 secs...\n",
      "Used Annotations descriptions: ['feet', 'left_hand', 'right_hand']\n",
      "Reading 0 ... 217109  =      0.000 ...   868.436 secs...\n"
     ]
    },
    {
     "name": "stderr",
     "output_type": "stream",
     "text": [
      "/Users/andresalvarezolmo/Documents/hume/ACS/playground/BCI-2023-Workshop_Learning-from-small-datasets/venv/lib/python3.10/site-packages/moabb/datasets/Zhou2016.py:104: RuntimeWarning: Could not define the number of bytes automatically. Defaulting to 2.\n",
      "  raw = read_raw_cnt(fname, preload=True, eog=[\"VEOU\", \"VEOL\"])\n",
      "/Users/andresalvarezolmo/Documents/hume/ACS/playground/BCI-2023-Workshop_Learning-from-small-datasets/venv/lib/python3.10/site-packages/moabb/datasets/Zhou2016.py:104: RuntimeWarning: Could not define the number of bytes automatically. Defaulting to 2.\n",
      "  raw = read_raw_cnt(fname, preload=True, eog=[\"VEOU\", \"VEOL\"])\n"
     ]
    },
    {
     "name": "stdout",
     "output_type": "stream",
     "text": [
      "Used Annotations descriptions: ['feet', 'left_hand', 'right_hand']\n"
     ]
    },
    {
     "name": "stderr",
     "output_type": "stream",
     "text": [
      "/Users/andresalvarezolmo/Documents/hume/ACS/playground/BCI-2023-Workshop_Learning-from-small-datasets/venv/lib/python3.10/site-packages/moabb/datasets/preprocessing.py:278: UserWarning: warnEpochs <Epochs | 60 events (all good), 0 – 3 s (baseline off), ~1.0 MiB, data loaded,\n",
      " 'left_hand': 20\n",
      " 'right_hand': 20\n",
      " 'feet': 20>\n",
      "  warn(f\"warnEpochs {epochs}\")\n",
      "/Users/andresalvarezolmo/Documents/hume/ACS/playground/BCI-2023-Workshop_Learning-from-small-datasets/venv/lib/python3.10/site-packages/moabb/datasets/preprocessing.py:278: UserWarning: warnEpochs <Epochs | 75 events (all good), 0 – 3 s (baseline off), ~1.3 MiB, data loaded,\n",
      " 'left_hand': 25\n",
      " 'right_hand': 25\n",
      " 'feet': 25>\n",
      "  warn(f\"warnEpochs {epochs}\")\n",
      "/Users/andresalvarezolmo/Documents/hume/ACS/playground/BCI-2023-Workshop_Learning-from-small-datasets/venv/lib/python3.10/site-packages/moabb/datasets/preprocessing.py:278: UserWarning: warnEpochs <Epochs | 75 events (all good), 0 – 3 s (baseline off), ~1.3 MiB, data loaded,\n",
      " 'left_hand': 25\n",
      " 'right_hand': 25\n",
      " 'feet': 25>\n",
      "  warn(f\"warnEpochs {epochs}\")\n",
      "/Users/andresalvarezolmo/Documents/hume/ACS/playground/BCI-2023-Workshop_Learning-from-small-datasets/venv/lib/python3.10/site-packages/moabb/datasets/preprocessing.py:278: UserWarning: warnEpochs <Epochs | 75 events (all good), 0 – 3 s (baseline off), ~1.3 MiB, data loaded,\n",
      " 'left_hand': 25\n",
      " 'right_hand': 25\n",
      " 'feet': 25>\n",
      "  warn(f\"warnEpochs {epochs}\")\n",
      "/Users/andresalvarezolmo/Documents/hume/ACS/playground/BCI-2023-Workshop_Learning-from-small-datasets/venv/lib/python3.10/site-packages/moabb/datasets/preprocessing.py:278: UserWarning: warnEpochs <Epochs | 75 events (all good), 0 – 3 s (baseline off), ~1.3 MiB, data loaded,\n",
      " 'left_hand': 25\n",
      " 'right_hand': 25\n",
      " 'feet': 25>\n",
      "  warn(f\"warnEpochs {epochs}\")\n",
      "/Users/andresalvarezolmo/Documents/hume/ACS/playground/BCI-2023-Workshop_Learning-from-small-datasets/venv/lib/python3.10/site-packages/moabb/datasets/preprocessing.py:278: UserWarning: warnEpochs <Epochs | 75 events (all good), 0 – 3 s (baseline off), ~1.3 MiB, data loaded,\n",
      " 'left_hand': 25\n",
      " 'right_hand': 25\n",
      " 'feet': 25>\n",
      "  warn(f\"warnEpochs {epochs}\")\n"
     ]
    },
    {
     "name": "stdout",
     "output_type": "stream",
     "text": [
      "No hdf5_path provided, models will not be saved.\n",
      "No hdf5_path provided, models will not be saved.\n",
      "No hdf5_path provided, models will not be saved.\n"
     ]
    },
    {
     "name": "stderr",
     "output_type": "stream",
     "text": [
      "Zhou2016-WithinSession: 100%|██████████| 4/4 [00:12<00:00,  3.08s/it]\n"
     ]
    }
   ],
   "source": [
    "results = evaluation.process(pipelines=dict(demo_pipeline=sklearn_pipeline))"
   ]
  },
  {
   "cell_type": "code",
   "execution_count": 8,
   "id": "fdc2fc43",
   "metadata": {},
   "outputs": [
    {
     "data": {
      "application/vnd.microsoft.datawrangler.viewer.v0+json": {
       "columns": [
        {
         "name": "index",
         "rawType": "int64",
         "type": "integer"
        },
        {
         "name": "score",
         "rawType": "float32",
         "type": "float"
        },
        {
         "name": "f1",
         "rawType": "float32",
         "type": "float"
        },
        {
         "name": "recall",
         "rawType": "float32",
         "type": "float"
        },
        {
         "name": "specificity",
         "rawType": "float32",
         "type": "float"
        },
        {
         "name": "precision",
         "rawType": "float32",
         "type": "float"
        },
        {
         "name": "time",
         "rawType": "float32",
         "type": "float"
        },
        {
         "name": "samples",
         "rawType": "float32",
         "type": "float"
        },
        {
         "name": "subject",
         "rawType": "object",
         "type": "string"
        },
        {
         "name": "session",
         "rawType": "object",
         "type": "string"
        },
        {
         "name": "channels",
         "rawType": "int64",
         "type": "integer"
        },
        {
         "name": "n_sessions",
         "rawType": "int64",
         "type": "integer"
        },
        {
         "name": "dataset",
         "rawType": "object",
         "type": "string"
        },
        {
         "name": "pipeline",
         "rawType": "object",
         "type": "string"
        }
       ],
       "conversionMethod": "pd.DataFrame",
       "ref": "b74a3ad2-7459-479e-adae-f0ddc76354bf",
       "rows": [
        [
         "0",
         "0.53063494",
         "0.527746",
         "0.530303",
         "0.76465493",
         "0.5359949",
         "0.040278435",
         "179.0",
         "1",
         "0",
         "3",
         "3",
         "Zhou2016",
         "demo_pipeline"
        ],
        [
         "1",
         "0.6066667",
         "0.6061777",
         "0.6066667",
         "0.80333334",
         "0.62357587",
         "0.02121358",
         "150.0",
         "1",
         "1",
         "3",
         "3",
         "Zhou2016",
         "demo_pipeline"
        ],
        [
         "2",
         "0.64666665",
         "0.63451487",
         "0.64666665",
         "0.8233333",
         "0.66247624",
         "0.021982621",
         "150.0",
         "1",
         "2",
         "3",
         "3",
         "Zhou2016",
         "demo_pipeline"
        ],
        [
         "3",
         "0.56666666",
         "0.5544756",
         "0.56666666",
         "0.78333336",
         "0.5746712",
         "0.022040034",
         "150.0",
         "2",
         "0",
         "3",
         "3",
         "Zhou2016",
         "demo_pipeline"
        ],
        [
         "4",
         "0.67407405",
         "0.67306924",
         "0.67407405",
         "0.837037",
         "0.6862582",
         "0.020240355",
         "135.0",
         "2",
         "1",
         "3",
         "3",
         "Zhou2016",
         "demo_pipeline"
        ],
        [
         "5",
         "0.66",
         "0.6589942",
         "0.66",
         "0.83",
         "0.668599",
         "0.027064228",
         "150.0",
         "2",
         "2",
         "3",
         "3",
         "Zhou2016",
         "demo_pipeline"
        ],
        [
         "6",
         "0.68666667",
         "0.6626621",
         "0.68666667",
         "0.8433333",
         "0.6983117",
         "0.02252779",
         "150.0",
         "3",
         "0",
         "3",
         "3",
         "Zhou2016",
         "demo_pipeline"
        ],
        [
         "7",
         "0.6032258",
         "0.58573127",
         "0.6036364",
         "0.79963136",
         "0.60560614",
         "0.059108973",
         "151.0",
         "3",
         "1",
         "3",
         "3",
         "Zhou2016",
         "demo_pipeline"
        ],
        [
         "8",
         "0.6533333",
         "0.6495642",
         "0.6533333",
         "0.82666665",
         "0.6530564",
         "0.05556383",
         "150.0",
         "3",
         "2",
         "3",
         "3",
         "Zhou2016",
         "demo_pipeline"
        ],
        [
         "9",
         "0.7777778",
         "0.77567387",
         "0.7777778",
         "0.8888889",
         "0.79116344",
         "0.2159936",
         "135.0",
         "4",
         "0",
         "3",
         "3",
         "Zhou2016",
         "demo_pipeline"
        ],
        [
         "10",
         "0.70666665",
         "0.7004019",
         "0.70666665",
         "0.85333335",
         "0.70647854",
         "0.06154742",
         "150.0",
         "4",
         "1",
         "3",
         "3",
         "Zhou2016",
         "demo_pipeline"
        ],
        [
         "11",
         "0.79333335",
         "0.79029274",
         "0.79333335",
         "0.89666665",
         "0.8035415",
         "0.055783033",
         "150.0",
         "4",
         "2",
         "3",
         "3",
         "Zhou2016",
         "demo_pipeline"
        ]
       ],
       "shape": {
        "columns": 13,
        "rows": 12
       }
      },
      "text/html": [
       "<div>\n",
       "<style scoped>\n",
       "    .dataframe tbody tr th:only-of-type {\n",
       "        vertical-align: middle;\n",
       "    }\n",
       "\n",
       "    .dataframe tbody tr th {\n",
       "        vertical-align: top;\n",
       "    }\n",
       "\n",
       "    .dataframe thead th {\n",
       "        text-align: right;\n",
       "    }\n",
       "</style>\n",
       "<table border=\"1\" class=\"dataframe\">\n",
       "  <thead>\n",
       "    <tr style=\"text-align: right;\">\n",
       "      <th></th>\n",
       "      <th>score</th>\n",
       "      <th>f1</th>\n",
       "      <th>recall</th>\n",
       "      <th>specificity</th>\n",
       "      <th>precision</th>\n",
       "      <th>time</th>\n",
       "      <th>samples</th>\n",
       "      <th>subject</th>\n",
       "      <th>session</th>\n",
       "      <th>channels</th>\n",
       "      <th>n_sessions</th>\n",
       "      <th>dataset</th>\n",
       "      <th>pipeline</th>\n",
       "    </tr>\n",
       "  </thead>\n",
       "  <tbody>\n",
       "    <tr>\n",
       "      <th>0</th>\n",
       "      <td>0.530635</td>\n",
       "      <td>0.527746</td>\n",
       "      <td>0.530303</td>\n",
       "      <td>0.764655</td>\n",
       "      <td>0.535995</td>\n",
       "      <td>0.040278</td>\n",
       "      <td>179.0</td>\n",
       "      <td>1</td>\n",
       "      <td>0</td>\n",
       "      <td>3</td>\n",
       "      <td>3</td>\n",
       "      <td>Zhou2016</td>\n",
       "      <td>demo_pipeline</td>\n",
       "    </tr>\n",
       "    <tr>\n",
       "      <th>1</th>\n",
       "      <td>0.606667</td>\n",
       "      <td>0.606178</td>\n",
       "      <td>0.606667</td>\n",
       "      <td>0.803333</td>\n",
       "      <td>0.623576</td>\n",
       "      <td>0.021214</td>\n",
       "      <td>150.0</td>\n",
       "      <td>1</td>\n",
       "      <td>1</td>\n",
       "      <td>3</td>\n",
       "      <td>3</td>\n",
       "      <td>Zhou2016</td>\n",
       "      <td>demo_pipeline</td>\n",
       "    </tr>\n",
       "    <tr>\n",
       "      <th>2</th>\n",
       "      <td>0.646667</td>\n",
       "      <td>0.634515</td>\n",
       "      <td>0.646667</td>\n",
       "      <td>0.823333</td>\n",
       "      <td>0.662476</td>\n",
       "      <td>0.021983</td>\n",
       "      <td>150.0</td>\n",
       "      <td>1</td>\n",
       "      <td>2</td>\n",
       "      <td>3</td>\n",
       "      <td>3</td>\n",
       "      <td>Zhou2016</td>\n",
       "      <td>demo_pipeline</td>\n",
       "    </tr>\n",
       "    <tr>\n",
       "      <th>3</th>\n",
       "      <td>0.566667</td>\n",
       "      <td>0.554476</td>\n",
       "      <td>0.566667</td>\n",
       "      <td>0.783333</td>\n",
       "      <td>0.574671</td>\n",
       "      <td>0.022040</td>\n",
       "      <td>150.0</td>\n",
       "      <td>2</td>\n",
       "      <td>0</td>\n",
       "      <td>3</td>\n",
       "      <td>3</td>\n",
       "      <td>Zhou2016</td>\n",
       "      <td>demo_pipeline</td>\n",
       "    </tr>\n",
       "    <tr>\n",
       "      <th>4</th>\n",
       "      <td>0.674074</td>\n",
       "      <td>0.673069</td>\n",
       "      <td>0.674074</td>\n",
       "      <td>0.837037</td>\n",
       "      <td>0.686258</td>\n",
       "      <td>0.020240</td>\n",
       "      <td>135.0</td>\n",
       "      <td>2</td>\n",
       "      <td>1</td>\n",
       "      <td>3</td>\n",
       "      <td>3</td>\n",
       "      <td>Zhou2016</td>\n",
       "      <td>demo_pipeline</td>\n",
       "    </tr>\n",
       "    <tr>\n",
       "      <th>5</th>\n",
       "      <td>0.660000</td>\n",
       "      <td>0.658994</td>\n",
       "      <td>0.660000</td>\n",
       "      <td>0.830000</td>\n",
       "      <td>0.668599</td>\n",
       "      <td>0.027064</td>\n",
       "      <td>150.0</td>\n",
       "      <td>2</td>\n",
       "      <td>2</td>\n",
       "      <td>3</td>\n",
       "      <td>3</td>\n",
       "      <td>Zhou2016</td>\n",
       "      <td>demo_pipeline</td>\n",
       "    </tr>\n",
       "    <tr>\n",
       "      <th>6</th>\n",
       "      <td>0.686667</td>\n",
       "      <td>0.662662</td>\n",
       "      <td>0.686667</td>\n",
       "      <td>0.843333</td>\n",
       "      <td>0.698312</td>\n",
       "      <td>0.022528</td>\n",
       "      <td>150.0</td>\n",
       "      <td>3</td>\n",
       "      <td>0</td>\n",
       "      <td>3</td>\n",
       "      <td>3</td>\n",
       "      <td>Zhou2016</td>\n",
       "      <td>demo_pipeline</td>\n",
       "    </tr>\n",
       "    <tr>\n",
       "      <th>7</th>\n",
       "      <td>0.603226</td>\n",
       "      <td>0.585731</td>\n",
       "      <td>0.603636</td>\n",
       "      <td>0.799631</td>\n",
       "      <td>0.605606</td>\n",
       "      <td>0.059109</td>\n",
       "      <td>151.0</td>\n",
       "      <td>3</td>\n",
       "      <td>1</td>\n",
       "      <td>3</td>\n",
       "      <td>3</td>\n",
       "      <td>Zhou2016</td>\n",
       "      <td>demo_pipeline</td>\n",
       "    </tr>\n",
       "    <tr>\n",
       "      <th>8</th>\n",
       "      <td>0.653333</td>\n",
       "      <td>0.649564</td>\n",
       "      <td>0.653333</td>\n",
       "      <td>0.826667</td>\n",
       "      <td>0.653056</td>\n",
       "      <td>0.055564</td>\n",
       "      <td>150.0</td>\n",
       "      <td>3</td>\n",
       "      <td>2</td>\n",
       "      <td>3</td>\n",
       "      <td>3</td>\n",
       "      <td>Zhou2016</td>\n",
       "      <td>demo_pipeline</td>\n",
       "    </tr>\n",
       "    <tr>\n",
       "      <th>9</th>\n",
       "      <td>0.777778</td>\n",
       "      <td>0.775674</td>\n",
       "      <td>0.777778</td>\n",
       "      <td>0.888889</td>\n",
       "      <td>0.791163</td>\n",
       "      <td>0.215994</td>\n",
       "      <td>135.0</td>\n",
       "      <td>4</td>\n",
       "      <td>0</td>\n",
       "      <td>3</td>\n",
       "      <td>3</td>\n",
       "      <td>Zhou2016</td>\n",
       "      <td>demo_pipeline</td>\n",
       "    </tr>\n",
       "    <tr>\n",
       "      <th>10</th>\n",
       "      <td>0.706667</td>\n",
       "      <td>0.700402</td>\n",
       "      <td>0.706667</td>\n",
       "      <td>0.853333</td>\n",
       "      <td>0.706479</td>\n",
       "      <td>0.061547</td>\n",
       "      <td>150.0</td>\n",
       "      <td>4</td>\n",
       "      <td>1</td>\n",
       "      <td>3</td>\n",
       "      <td>3</td>\n",
       "      <td>Zhou2016</td>\n",
       "      <td>demo_pipeline</td>\n",
       "    </tr>\n",
       "    <tr>\n",
       "      <th>11</th>\n",
       "      <td>0.793333</td>\n",
       "      <td>0.790293</td>\n",
       "      <td>0.793333</td>\n",
       "      <td>0.896667</td>\n",
       "      <td>0.803541</td>\n",
       "      <td>0.055783</td>\n",
       "      <td>150.0</td>\n",
       "      <td>4</td>\n",
       "      <td>2</td>\n",
       "      <td>3</td>\n",
       "      <td>3</td>\n",
       "      <td>Zhou2016</td>\n",
       "      <td>demo_pipeline</td>\n",
       "    </tr>\n",
       "  </tbody>\n",
       "</table>\n",
       "</div>"
      ],
      "text/plain": [
       "       score        f1    recall  specificity  precision      time  samples  \\\n",
       "0   0.530635  0.527746  0.530303     0.764655   0.535995  0.040278    179.0   \n",
       "1   0.606667  0.606178  0.606667     0.803333   0.623576  0.021214    150.0   \n",
       "2   0.646667  0.634515  0.646667     0.823333   0.662476  0.021983    150.0   \n",
       "3   0.566667  0.554476  0.566667     0.783333   0.574671  0.022040    150.0   \n",
       "4   0.674074  0.673069  0.674074     0.837037   0.686258  0.020240    135.0   \n",
       "5   0.660000  0.658994  0.660000     0.830000   0.668599  0.027064    150.0   \n",
       "6   0.686667  0.662662  0.686667     0.843333   0.698312  0.022528    150.0   \n",
       "7   0.603226  0.585731  0.603636     0.799631   0.605606  0.059109    151.0   \n",
       "8   0.653333  0.649564  0.653333     0.826667   0.653056  0.055564    150.0   \n",
       "9   0.777778  0.775674  0.777778     0.888889   0.791163  0.215994    135.0   \n",
       "10  0.706667  0.700402  0.706667     0.853333   0.706479  0.061547    150.0   \n",
       "11  0.793333  0.790293  0.793333     0.896667   0.803541  0.055783    150.0   \n",
       "\n",
       "   subject session  channels  n_sessions   dataset       pipeline  \n",
       "0        1       0         3           3  Zhou2016  demo_pipeline  \n",
       "1        1       1         3           3  Zhou2016  demo_pipeline  \n",
       "2        1       2         3           3  Zhou2016  demo_pipeline  \n",
       "3        2       0         3           3  Zhou2016  demo_pipeline  \n",
       "4        2       1         3           3  Zhou2016  demo_pipeline  \n",
       "5        2       2         3           3  Zhou2016  demo_pipeline  \n",
       "6        3       0         3           3  Zhou2016  demo_pipeline  \n",
       "7        3       1         3           3  Zhou2016  demo_pipeline  \n",
       "8        3       2         3           3  Zhou2016  demo_pipeline  \n",
       "9        4       0         3           3  Zhou2016  demo_pipeline  \n",
       "10       4       1         3           3  Zhou2016  demo_pipeline  \n",
       "11       4       2         3           3  Zhou2016  demo_pipeline  "
      ]
     },
     "execution_count": 8,
     "metadata": {},
     "output_type": "execute_result"
    }
   ],
   "source": [
    "results"
   ]
  },
  {
   "cell_type": "code",
   "execution_count": 9,
   "id": "0459b02a",
   "metadata": {},
   "outputs": [
    {
     "name": "stdout",
     "output_type": "stream",
     "text": [
      "   accuracy        f1    recall  specificity  precision\n",
      "0  0.658809  0.651609  0.658816     0.829184   0.667478\n"
     ]
    }
   ],
   "source": [
    "\n",
    "data = {\n",
    "    \"accuracy\": [results['score'].mean()],\n",
    "    \"f1\": [results[\"f1\"].mean()],\n",
    "    \"recall\": [results[\"recall\"].mean()],\n",
    "    \"specificity\": [results[\"specificity\"].mean()],\n",
    "    \"precision\": [results[\"precision\"].mean()]     \n",
    "    } \n",
    "df = pd.DataFrame(data)\n",
    "print(df)"
   ]
  }
 ],
 "metadata": {
  "kernelspec": {
   "display_name": "venv",
   "language": "python",
   "name": "python3"
  },
  "language_info": {
   "codemirror_mode": {
    "name": "ipython",
    "version": 3
   },
   "file_extension": ".py",
   "mimetype": "text/x-python",
   "name": "python",
   "nbconvert_exporter": "python",
   "pygments_lexer": "ipython3",
   "version": "3.10.16"
  }
 },
 "nbformat": 4,
 "nbformat_minor": 5
}
